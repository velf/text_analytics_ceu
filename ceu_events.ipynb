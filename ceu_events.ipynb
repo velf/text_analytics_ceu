{
 "cells": [
  {
   "cell_type": "code",
   "execution_count": 249,
   "metadata": {},
   "outputs": [],
   "source": [
    "#Nice Module to help to download the raw html file as a text\n",
    "import requests\n",
    "# it helps to store the data\n",
    "import pandas as pd\n",
    "# it helps to parse the data\n",
    "from bs4 import BeautifulSoup"
   ]
  },
  {
   "cell_type": "code",
   "execution_count": 250,
   "metadata": {
    "collapsed": true
   },
   "outputs": [],
   "source": [
    "base_link=\"https://politicalscience.ceu.edu/node/\""
   ]
  },
  {
   "cell_type": "code",
   "execution_count": 251,
   "metadata": {
    "collapsed": true
   },
   "outputs": [],
   "source": [
    "start=2146\n",
    "end=2550"
   ]
  },
  {
   "cell_type": "code",
   "execution_count": 253,
   "metadata": {},
   "outputs": [],
   "source": [
    "url = base_link+str(start)\n",
    "r = requests.get(url)"
   ]
  },
  {
   "cell_type": "code",
   "execution_count": 254,
   "metadata": {},
   "outputs": [],
   "source": [
    "soup = BeautifulSoup(r.text, \"html5lib\")"
   ]
  },
  {
   "cell_type": "code",
   "execution_count": 255,
   "metadata": {},
   "outputs": [
    {
     "data": {
      "text/plain": [
       "'<!DOCTYPE html>\\n<!--[if IEMobile 7]><html class=\"iem7\"  lang=\"en\" dir=\"ltr\"><![endif]-->\\n<!--[if lte IE 6]><html class=\"lt-ie9 lt-ie8 lt-ie7\"  lang=\"en\" dir=\"ltr\"><![endif]-->\\n<!--[if (IE 7)&(!IEMobile)]><html class=\"lt-ie9 lt-ie8\"  lang=\"en\" dir=\"ltr\"><![endif]-->\\n<!--[if IE 8]><html class=\"lt-ie9\"  lang=\"en\" dir=\"ltr\"><![endif]-->\\n<!--[if (gte IE 9)|(gt IEMobile 7)]><!-->\\n<html dir=\"ltr\" lang=\"en\">\\n <!--<![endif]-->\\n <head profile=\"http://www.w3.org/1999/xhtml/vocab\">\\n  <link href=\"https://fonts.googleapis.com/css?family=Open+Sans:300,400,700,800|Open+Sans+Condensed:300,700\" rel=\"stylesheet\" type=\"text/css\"/>\\n  <meta charset=\"utf-8\"/>\\n  <link href=\"https://politicalscience.ceu.edu/sites/politicalscience.ceu.hu/files/favicon.ico\" rel=\"shortcut icon\" type=\"image/vnd.microsoft.icon\"/>\\n  <link href=\"/node/2146\" rel=\"shortlink\"/>\\n  <link href=\"/events/2017-09-21/revolutionary-roads-diffusion-neoliberal-tax-policies-10-post-communist-new-eu\" rel=\"canonical\"/>\\n  <meta content=\"Drupal 7 (http://drupal.org)\" name=\"Generator\"/>\\n  <title>\\n   Revolutionary Roads. Diffusion of Neoliberal Tax Policies in the 10 Post-communist New EU Member States | Department of Political Science\\n  </title>\\n  <meta content=\"width\" name=\"MobileOptimized\"/>\\n  <meta content=\"true\" name=\"HandheldFriendly\"/>\\n  <meta content=\"width=device-width\" name=\"viewport\"/>\\n  <meta content=\"on\" http-equiv=\"cleartype\"/>\\n  <link href=\"https://politicalscience.ceu.edu/sites/politicalscience.ceu.hu/files/css/css_kShW4RPmRstZ3SpIC-ZvVGNFVAi0WEMuCnI0ZkYIaFw.css\" media=\"all\" rel=\"stylesheet\" type=\"text/css\"/>\\n  <link href=\"https://politicalscience.ceu.edu/sites/politicalscience.ceu.hu/files/css/css_-XEzepYI99-elX5frSkuvA7n4NvUX3zSMg3s0fn4lUU.css\" media=\"all\" rel=\"stylesheet\" type=\"text/css\"/>\\n  <link href=\"https://politicalscience.ceu.edu/sites/politicalscience.ceu.hu/files/css/css_1j9U4TWlqE-kgrfdeG3Z8nOAiUmEwxTD3cSSzZaegrU.css\" media=\"all\" rel=\"stylesheet\" type=\"text/css\"/>\\n  <link href=\"https://politicalscience.ceu.edu/sites/politicalscience.ceu.hu/files/css/css_lrm65HI2NtwtzCBKeMC8W6sto5onVWqHpye21YOCD4I.css\" media=\"all\" rel=\"stylesheet\" type=\"text/css\"/>\\n  <link href=\"https://politicalscience.ceu.edu/sites/politicalscience.ceu.hu/files/css/css_1C8McLIJ__edJU5v2yO04xm-6nt1segq6gYmxD6FKCc.css\" media=\"all\" rel=\"stylesheet\" type=\"text/css\"/>\\n  <link href=\"https://politicalscience.ceu.edu/sites/politicalscience.ceu.hu/files/css/css_eDhK8UaV6ptzvDums1SN_sjxXZ2_8VgKBwBWSMyJVo8.css\" media=\"all\" rel=\"stylesheet\" type=\"text/css\"/>\\n  <script src=\"https://politicalscience.ceu.edu/sites/politicalscience.ceu.hu/files/js/js_0gj6QcpfRH2jzTbCQqf7kEkm4MXY0UA_sRhwPc8jC1o.js\">\\n  </script>\\n  <script src=\"https://politicalscience.ceu.edu/sites/politicalscience.ceu.hu/files/js/js_ZpJJbWcnnM1coYfZHlZbonoPG7yc97Gp-EA83pwd1VI.js\">\\n  </script>\\n  <script src=\"https://politicalscience.ceu.edu/sites/politicalscience.ceu.hu/files/js/js_Cj6LWZ1fMKLtZ36wyjYU_Sr2nMjzhA_wwFx_EcVsH8o.js\">\\n  </script>\\n  <script src=\"https://politicalscience.ceu.edu/sites/politicalscience.ceu.hu/files/js/js_RNXCjEgMzHoAfMhPoWqeaqtyLWjTo7KtugTVHr8AJZw.js\">\\n  </script>\\n  <script>\\n   var _gaq = _gaq || [];_gaq.push([\"_setAccount\", \"UA-3199669-8\"]);_gaq.push([\"_trackPageview\"]);(function() {var ga = document.createElement(\"script\");ga.type = \"text/javascript\";ga.async = true;ga.src = (\"https:\" == document.location.protocol ? \"https://ssl\" : \"http://www\") + \".google-analytics.com/ga.js\";var s = document.getElementsByTagName(\"script\")[0];s.parentNode.insertBefore(ga, s);})();\\n  </script>\\n  <script src=\"https://politicalscience.ceu.edu/sites/politicalscience.ceu.hu/files/js/js_-QTOW7v2Syq9KuhK8fQW0JdnW1L-cffgNJhRbx3lXCM.js\">\\n  </script>\\n  <script>\\n   jQuery.extend(Drupal.settings, {\"basePath\":\"\\\\/\",\"pathPrefix\":\"\",\"ajaxPageState\":{\"theme\":\"polsci\",\"theme_token\":\"Vb153xgCn5WCqPQ1oX0Z204q6dYthFglGzf0yEJNvHQ\",\"js\":{\"sites\\\\/all\\\\/modules\\\\/contrib\\\\/chosen\\\\/chosen.js\":1,\"profiles\\\\/ceu_crack\\\\/modules\\\\/panopoly\\\\/panopoly_widgets\\\\/panopoly-widgets.js\":1,\"profiles\\\\/ceu_crack\\\\/modules\\\\/contrib\\\\/jquery_update\\\\/replace\\\\/jquery\\\\/1.7\\\\/jquery.min.js\":1,\"misc\\\\/jquery.once.js\":1,\"misc\\\\/drupal.js\":1,\"profiles\\\\/ceu_crack\\\\/modules\\\\/contrib\\\\/jquery_update\\\\/replace\\\\/ui\\\\/ui\\\\/minified\\\\/jquery.ui.core.min.js\":1,\"profiles\\\\/ceu_crack\\\\/modules\\\\/contrib\\\\/jquery_update\\\\/replace\\\\/ui\\\\/ui\\\\/minified\\\\/jquery.ui.widget.min.js\":1,\"profiles\\\\/ceu_crack\\\\/modules\\\\/contrib\\\\/jquery_update\\\\/replace\\\\/ui\\\\/ui\\\\/minified\\\\/jquery.ui.tabs.min.js\":1,\"profiles\\\\/ceu_crack\\\\/modules\\\\/contrib\\\\/jquery_update\\\\/replace\\\\/ui\\\\/ui\\\\/minified\\\\/jquery.ui.accordion.min.js\":1,\"profiles\\\\/ceu_crack\\\\/modules\\\\/panopoly\\\\/panopoly_admin\\\\/panopoly-admin.js\":1,\"profiles\\\\/ceu_crack\\\\/modules\\\\/panopoly\\\\/panopoly_magic\\\\/panopoly-magic.js\":1,\"profiles\\\\/ceu_crack\\\\/modules\\\\/panopoly\\\\/panopoly_theme\\\\/js\\\\/panopoly-accordion.js\":1,\"profiles\\\\/ceu_crack\\\\/modules\\\\/contrib\\\\/caption_filter\\\\/js\\\\/caption-filter.js\":1,\"sites\\\\/all\\\\/libraries\\\\/chosen\\\\/chosen\\\\/chosen.jquery.min.js\":1,\"sites\\\\/all\\\\/modules\\\\/contrib\\\\/addtocal\\\\/addtocal.js\":1,\"sites\\\\/all\\\\/modules\\\\/contrib\\\\/google_analytics\\\\/googleanalytics.js\":1,\"0\":1,\"sites\\\\/all\\\\/libraries\\\\/superfish\\\\/jquery.hoverIntent.minified.js\":1,\"sites\\\\/all\\\\/libraries\\\\/superfish\\\\/sfsmallscreen.js\":1,\"sites\\\\/all\\\\/libraries\\\\/superfish\\\\/supposition.js\":1,\"sites\\\\/all\\\\/libraries\\\\/superfish\\\\/superfish.js\":1,\"sites\\\\/all\\\\/libraries\\\\/superfish\\\\/supersubs.js\":1,\"sites\\\\/all\\\\/modules\\\\/contrib\\\\/superfish\\\\/superfish.js\":1},\"css\":{\"modules\\\\/system\\\\/system.base.css\":1,\"modules\\\\/system\\\\/system.menus.css\":1,\"modules\\\\/system\\\\/system.messages.css\":1,\"modules\\\\/system\\\\/system.theme.css\":1,\"misc\\\\/ui\\\\/jquery.ui.core.css\":1,\"misc\\\\/ui\\\\/jquery.ui.theme.css\":1,\"misc\\\\/ui\\\\/jquery.ui.tabs.css\":1,\"misc\\\\/ui\\\\/jquery.ui.accordion.css\":1,\"sites\\\\/all\\\\/modules\\\\/contrib\\\\/calendar\\\\/css\\\\/calendar_multiday.css\":1,\"profiles\\\\/ceu_crack\\\\/modules\\\\/contrib\\\\/date\\\\/date_api\\\\/date.css\":1,\"profiles\\\\/ceu_crack\\\\/modules\\\\/contrib\\\\/date\\\\/date_popup\\\\/themes\\\\/datepicker.1.7.css\":1,\"modules\\\\/field\\\\/theme\\\\/field.css\":1,\"modules\\\\/node\\\\/node.css\":1,\"profiles\\\\/ceu_crack\\\\/modules\\\\/panopoly\\\\/panopoly_admin\\\\/panopoly-admin.css\":1,\"profiles\\\\/ceu_crack\\\\/modules\\\\/panopoly\\\\/panopoly_admin\\\\/panopoly-admin-navbar.css\":1,\"profiles\\\\/ceu_crack\\\\/modules\\\\/panopoly\\\\/panopoly_core\\\\/css\\\\/panopoly-dropbutton.css\":1,\"profiles\\\\/ceu_crack\\\\/modules\\\\/panopoly\\\\/panopoly_magic\\\\/css\\\\/panopoly-magic.css\":1,\"profiles\\\\/ceu_crack\\\\/modules\\\\/panopoly\\\\/panopoly_magic\\\\/css\\\\/panopoly-modal.css\":1,\"profiles\\\\/ceu_crack\\\\/modules\\\\/panopoly\\\\/panopoly_theme\\\\/css\\\\/panopoly-featured.css\":1,\"profiles\\\\/ceu_crack\\\\/modules\\\\/panopoly\\\\/panopoly_theme\\\\/css\\\\/panopoly-accordian.css\":1,\"profiles\\\\/ceu_crack\\\\/modules\\\\/panopoly\\\\/panopoly_theme\\\\/css\\\\/panopoly-layouts.css\":1,\"profiles\\\\/ceu_crack\\\\/modules\\\\/panopoly\\\\/panopoly_widgets\\\\/panopoly-widgets.css\":1,\"profiles\\\\/ceu_crack\\\\/modules\\\\/panopoly\\\\/panopoly_wysiwyg\\\\/panopoly-wysiwyg.css\":1,\"profiles\\\\/ceu_crack\\\\/modules\\\\/contrib\\\\/radix_layouts\\\\/radix_layouts.css\":1,\"modules\\\\/search\\\\/search.css\":1,\"modules\\\\/user\\\\/user.css\":1,\"profiles\\\\/ceu_crack\\\\/modules\\\\/contrib\\\\/views\\\\/css\\\\/views.css\":1,\"profiles\\\\/ceu_crack\\\\/modules\\\\/contrib\\\\/caption_filter\\\\/caption-filter.css\":1,\"sites\\\\/all\\\\/libraries\\\\/chosen\\\\/chosen\\\\/chosen.css\":1,\"sites\\\\/all\\\\/modules\\\\/contrib\\\\/chosen\\\\/css\\\\/chosen-drupal.css\":1,\"profiles\\\\/ceu_crack\\\\/modules\\\\/contrib\\\\/ctools\\\\/css\\\\/ctools.css\":1,\"sites\\\\/all\\\\/modules\\\\/contrib\\\\/ldap\\\\/ldap_servers\\\\/ldap_servers.admin.css\":1,\"profiles\\\\/ceu_crack\\\\/modules\\\\/contrib\\\\/panels\\\\/css\\\\/panels.css\":1,\"sites\\\\/all\\\\/modules\\\\/contrib\\\\/addtocal\\\\/addtocal.css\":1,\"sites\\\\/all\\\\/libraries\\\\/superfish\\\\/css\\\\/superfish.css\":1,\"sites\\\\/all\\\\/themes\\\\/ceupoly\\\\/system.menus.css\":1,\"sites\\\\/all\\\\/themes\\\\/ceupoly\\\\/css\\\\/normalize.css\":1,\"sites\\\\/all\\\\/themes\\\\/ceupoly\\\\/css\\\\/wireframes.css\":1,\"sites\\\\/all\\\\/themes\\\\/ceupoly\\\\/css\\\\/layouts\\\\/responsive-sidebars.css\":1,\"sites\\\\/all\\\\/themes\\\\/ceupoly\\\\/css\\\\/page-backgrounds.css\":1,\"sites\\\\/all\\\\/themes\\\\/ceupoly\\\\/css\\\\/tabs.css\":1,\"sites\\\\/all\\\\/themes\\\\/ceupoly\\\\/css\\\\/pages.css\":1,\"sites\\\\/all\\\\/themes\\\\/ceupoly\\\\/css\\\\/blocks.css\":1,\"sites\\\\/all\\\\/themes\\\\/ceupoly\\\\/css\\\\/navigation.css\":1,\"sites\\\\/all\\\\/themes\\\\/ceupoly\\\\/css\\\\/views-styles.css\":1,\"sites\\\\/all\\\\/themes\\\\/ceupoly\\\\/css\\\\/views-masonry.css\":1,\"sites\\\\/all\\\\/themes\\\\/ceupoly\\\\/css\\\\/calendar.css\":1,\"sites\\\\/all\\\\/themes\\\\/ceupoly\\\\/css\\\\/nodes.css\":1,\"sites\\\\/all\\\\/themes\\\\/ceupoly\\\\/css\\\\/comments.css\":1,\"sites\\\\/all\\\\/themes\\\\/ceupoly\\\\/css\\\\/forms.css\":1,\"sites\\\\/all\\\\/themes\\\\/ceupoly\\\\/css\\\\/tables.css\":1,\"sites\\\\/all\\\\/themes\\\\/ceupoly\\\\/css\\\\/fields.css\":1,\"sites\\\\/all\\\\/themes\\\\/ceupoly\\\\/css\\\\/panels.css\":1,\"sites\\\\/all\\\\/themes\\\\/ceupoly\\\\/css\\\\/print.css\":1,\"sites\\\\/all\\\\/themes\\\\/ceupoly\\\\/css\\\\/accordion.css\":1,\"sites\\\\/all\\\\/themes\\\\/ceupoly\\\\/css\\\\/webforms.css\":1,\"sites\\\\/all\\\\/themes\\\\/ceupoly\\\\/css\\\\/eu-cookies.css\":1,\"sites\\\\/politicalscience.ceu.hu\\\\/themes\\\\/polsci\\\\/css\\\\/subbase.css\":1,\"profiles\\\\/ceu_crack\\\\/modules\\\\/panopoly\\\\/panopoly_images\\\\/panopoly-images.css\":1}},\"chosen\":{\"selector\":\"select:visible\",\"minimum\":20,\"minimum_width\":200,\"search_contains\":false,\"placeholder_text_multiple\":\"Choose some options\",\"placeholder_text_single\":\"Choose an option\",\"no_results_text\":\"No results match\"},\"CToolsModal\":{\"modalSize\":{\"type\":\"scale\",\"width\":\".9\",\"height\":\".9\",\"addWidth\":0,\"addHeight\":0,\"contentRight\":25,\"contentBottom\":75},\"modalOptions\":{\"opacity\":\".55\",\"background-color\":\"#FFF\"},\"animationSpeed\":\"fast\",\"modalTheme\":\"CToolsModalDialog\",\"throbberTheme\":\"CToolsModalThrobber\"},\"googleanalytics\":{\"trackOutbound\":1,\"trackMailto\":1,\"trackDownload\":1,\"trackDownloadExtensions\":\"7z|aac|arc|arj|asf|asx|avi|bin|csv|doc|exe|flv|gif|gz|gzip|hqx|jar|jpe?g|js|mp(2|3|4|e?g)|mov(ie)?|msi|msp|pdf|phps|png|ppt|qtm?|ra(m|r)?|sea|sit|tar|tgz|torrent|txt|wav|wma|wmv|wpd|xls|xml|z|zip\"},\"superfish\":{\"1\":{\"id\":\"1\",\"sf\":{\"animation\":{\"opacity\":\"show\",\"height\":\"show\"},\"speed\":\"\\\\u0027fast\\\\u0027\",\"autoArrows\":false,\"dropShadows\":false,\"disableHI\":false},\"plugins\":{\"smallscreen\":{\"mode\":\"window_width\",\"addSelected\":false,\"menuClasses\":false,\"hyperlinkClasses\":false,\"title\":\"Main menu\"},\"supposition\":true,\"bgiframe\":false,\"supersubs\":{\"minWidth\":\"12\",\"maxWidth\":\"27\",\"extraWidth\":1}}}}});\\n  </script>\\n  <!--[if lt IE 9]>\\n    <script src=\"/sites/all/themes/zen/js/html5-respond.js\"></script>\\n    <![endif]-->\\n </head>\\n <body class=\"html not-front not-logged-in no-sidebars page-node page-node- page-node-2146 node-type-event region-content section-events page-panels \">\\n  <p id=\"skip-link\">\\n   <a class=\"element-invisible element-focusable\" href=\"#main-menu\">\\n    Jump to navigation\\n   </a>\\n  </p>\\n  <div id=\"page-outer\">\\n   <div id=\"header-outer\">\\n    <header id=\"header\" role=\"banner\">\\n     <a href=\"/\" id=\"logo\" rel=\"home\" title=\"Home\">\\n      <img alt=\"Home\" src=\"https://politicalscience.ceu.edu/sites/politicalscience.ceu.hu/themes/polsci/logo.png\"/>\\n     </a>\\n     <nav id=\"secondary-menu\" role=\"navigation\">\\n      <h2 class=\"element-invisible\">\\n       User menu\\n      </h2>\\n      <ul class=\"links inline clearfix\">\\n       <li class=\"menu-3236 first\">\\n        <a href=\"http://www.ceu.edu/\">\\n         CEU Home\\n        </a>\\n       </li>\\n       <li class=\"menu-670 last\">\\n        <a href=\"/user/login\">\\n         Log in\\n        </a>\\n       </li>\\n      </ul>\\n     </nav>\\n     <div class=\"header__region region region-header\">\\n      <div class=\"block block-menu first odd\" id=\"block-menu-menu-header-left\" role=\"navigation\">\\n       <ul class=\"menu\">\\n        <li class=\"menu__item is-leaf first leaf menu__link\">\\n         <a class=\"menu__link\" href=\"/calendar\">\\n          Calendar\\n         </a>\\n        </li>\\n        <li class=\"menu__item is-leaf leaf menu__link\">\\n         <a class=\"menu__link\" href=\"http://ceulearning.ceu.hu/\">\\n          E-learning\\n         </a>\\n        </li>\\n        <li class=\"menu__item is-leaf last leaf menu__link\">\\n         <a class=\"menu__link\" href=\"/contact-us\">\\n          Contact Us\\n         </a>\\n        </li>\\n       </ul>\\n      </div>\\n      <div class=\"block block-menu even\" id=\"block-menu-menu-header-center\" role=\"navigation\">\\n       <ul class=\"menu\">\\n        <li class=\"menu__item is-leaf first leaf menu__link stripe gradient-orange\">\\n         <a class=\"menu__link stripe gradient-orange\" href=\"/international-ranking\">\\n          International Ranking\\n         </a>\\n        </li>\\n        <li class=\"menu__item is-leaf leaf menu__link stripe gradient-blue\">\\n         <a class=\"menu__link stripe gradient-blue\" href=\"https://politicalscience.ceu.edu/thank-you-your-continuing-support-polsci-ceu-and-academic-freedom-istandwithceu\">\\n          #IstandwithCEU\\n         </a>\\n        </li>\\n        <li class=\"menu__item is-leaf last leaf menu__link stripe gradient-purple\">\\n         <a class=\"menu__link stripe gradient-purple\" href=\"https://www.ceu.edu/admissions/legislation-faq\">\\n          Legislative change\\n         </a>\\n        </li>\\n       </ul>\\n      </div>\\n      <div class=\"block block-menu odd\" id=\"block-menu-menu-header-right\" role=\"navigation\">\\n       <ul class=\"menu\">\\n        <li class=\"menu__item is-leaf first leaf menu__link stripe gradient-green\">\\n         <a class=\"menu__link stripe gradient-green\" href=\"https://www.ceu.edu/node/13737\" target=\"_blank\">\\n          Apply Now\\n         </a>\\n        </li>\\n        <li class=\"menu__item is-leaf leaf menu__link stripe gradient-green\">\\n         <a class=\"menu__link stripe gradient-green\" href=\"http://sits.ceu.edu/urd/sits.urd/run/siw_ipp_lgn.login?process=siw_ipp_enq&amp;code1=AUPOLS&amp;code2=&amp;code4=IPR_UDF1=POLS;IPR_UDF2=DIR_ENQ\">\\n          Ask About Programs\\n         </a>\\n        </li>\\n        <li class=\"menu__item is-leaf leaf menu__link social facebook\">\\n         <a class=\"menu__link social facebook\" href=\"https://www.facebook.com/PoliticalScienceDepartment\" target=\"_blank\">\\n          Facebook\\n         </a>\\n        </li>\\n        <li class=\"menu__item is-leaf leaf menu__link social linkedin\">\\n         <a class=\"menu__link social linkedin\" href=\"http://www.linkedin.com/groups/CEU-Political-Science-Department-5131583\" target=\"_blank\">\\n          Linkedin\\n         </a>\\n        </li>\\n        <li class=\"menu__item is-leaf leaf menu__link social twitter\">\\n         <a class=\"menu__link social twitter\" href=\"https://twitter.com/CEUpolsci\">\\n          Twitter\\n         </a>\\n        </li>\\n        <li class=\"menu__item is-leaf last leaf menu__link social youtube\">\\n         <a class=\"menu__link social youtube\" href=\"https://www.youtube.com/playlist?list=PL_0phSnA7tySCsiGaVQtBxQM6Jo9fCz-D\">\\n          Youtube\\n         </a>\\n        </li>\\n       </ul>\\n      </div>\\n      <div class=\"block block-search last even\" id=\"block-search-form\" role=\"search\">\\n       <form accept-charset=\"UTF-8\" action=\"/node/2146\" id=\"search-block-form\" method=\"post\">\\n        <div>\\n         <div class=\"container-inline\">\\n          <h2 class=\"element-invisible\">\\n           Search form\\n          </h2>\\n          <div class=\"form-item form-type-textfield form-item-search-block-form\">\\n           <label class=\"element-invisible\" for=\"edit-search-block-form--2\">\\n            Search\\n           </label>\\n           <input class=\"form-text\" id=\"edit-search-block-form--2\" maxlength=\"128\" name=\"search_block_form\" size=\"15\" title=\"Enter the terms you wish to search for.\" type=\"text\" value=\"\"/>\\n          </div>\\n          <div class=\"form-actions form-wrapper\" id=\"edit-actions\">\\n           <input class=\"form-submit\" id=\"edit-submit\" name=\"op\" type=\"submit\" value=\"Search\"/>\\n          </div>\\n          <input name=\"form_build_id\" type=\"hidden\" value=\"form-lCtQrtKduYD3xuZUj5pvIVuSZHwajQDrf_G4t9fc6Gs\"/>\\n          <input name=\"form_id\" type=\"hidden\" value=\"search_block_form\"/>\\n         </div>\\n        </div>\\n       </form>\\n      </div>\\n     </div>\\n    </header>\\n   </div>\\n   <div id=\"page\">\\n    <div id=\"main\">\\n     <div class=\"column\" id=\"content\" role=\"main\">\\n      <nav class=\"breadcrumb\" role=\"navigation\">\\n       <h2 class=\"element-invisible\">\\n        You are here\\n       </h2>\\n       <ol>\\n        <li>\\n         <a href=\"/\">\\n          Home\\n         </a>\\n         ›\\n        </li>\\n        <li>\\n         <a href=\"/events\">\\n          Events\\n         </a>\\n         ›\\n        </li>\\n        <li>\\n         <span>\\n          Revolutionary Roads. Diffusion of Neoliberal Tax Policies in the 10 Post-communist New EU Member States\\n         </span>\\n         ›\\n        </li>\\n       </ol>\\n      </nav>\\n      <a id=\"main-content\">\\n      </a>\\n      <h1 class=\"title\" id=\"page-title\">\\n       Revolutionary Roads. Diffusion of Neoliberal Tax Policies in the 10 Post-communist New EU Member States\\n      </h1>\\n      <div class=\"panel-display burr clearfix radix-burr\">\\n       <div class=\"container-fluid\">\\n        <div class=\"row\">\\n         <div class=\"col-md-4 radix-layouts-sidebar panel-panel\">\\n          <div class=\"panel-panel-inner\">\\n           <div class=\"panel-pane pane-entity-field pane-node-field-main-image\">\\n            <div class=\"pane-content\">\\n             <div class=\"field field-name-field-main-image field-type-image field-label-hidden\">\\n              <div class=\"field-items\">\\n               <div class=\"field-item even\">\\n                <img alt=\"\" height=\"1200\" src=\"https://politicalscience.ceu.edu/sites/politicalscience.ceu.hu/files/main_image/event/2146/todorpic.jpg\" width=\"809\"/>\\n               </div>\\n              </div>\\n             </div>\\n            </div>\\n           </div>\\n           <div class=\"panel-pane pane-entity-field pane-node-field-term-event-type\">\\n            <div class=\"pane-content\">\\n             <div class=\"field field-name-field-term-event-type field-type-taxonomy-term-reference field-label-inline clearfix\">\\n              <div class=\"field-label\">\\n               Type:\\n              </div>\\n              <div class=\"field-items\">\\n               <div class=\"field-item even\">\\n                Departmental Seminar\\n               </div>\\n              </div>\\n             </div>\\n            </div>\\n           </div>\\n           <div class=\"panel-pane pane-entity-field pane-node-field-term-event-audience\">\\n            <div class=\"pane-content\">\\n             <div class=\"field field-name-field-term-event-audience field-type-taxonomy-term-reference field-label-inline clearfix\">\\n              <div class=\"field-label\">\\n               Audience:\\n              </div>\\n              <div class=\"field-items\">\\n               <div class=\"field-item even\">\\n                Open to the Public\\n               </div>\\n              </div>\\n             </div>\\n            </div>\\n           </div>\\n           <div class=\"panel-pane pane-entity-field pane-node-field-event-speaker\">\\n            <div class=\"pane-content\">\\n             <div class=\"field field-name-field-event-speaker field-type-link-field field-label-inline clearfix\">\\n              <div class=\"field-label\">\\n               Speaker:\\n              </div>\\n              <div class=\"field-items\">\\n               <div class=\"field-item even\">\\n                <a href=\"https://snspa.academia.edu/ArpadTodor\">\\n                 Arpad Todor\\n                </a>\\n               </div>\\n              </div>\\n             </div>\\n            </div>\\n           </div>\\n           <div class=\"panel-pane pane-entity-field pane-node-field-term-event-building\">\\n            <div class=\"pane-content\">\\n             <div class=\"field field-name-field-term-event-building field-type-taxonomy-term-reference field-label-inline clearfix\">\\n              <div class=\"field-label\">\\n               Building:\\n              </div>\\n              <div class=\"field-items\">\\n               <div class=\"field-item even\">\\n                Nador u. 15\\n               </div>\\n              </div>\\n             </div>\\n            </div>\\n           </div>\\n           <div class=\"panel-pane pane-entity-field pane-node-field-event-room\">\\n            <div class=\"pane-content\">\\n             <div class=\"field field-name-field-event-room field-type-text field-label-inline clearfix\">\\n              <div class=\"field-label\">\\n               Room:\\n              </div>\\n              <div class=\"field-items\">\\n               <div class=\"field-item even\">\\n                106\\n               </div>\\n              </div>\\n             </div>\\n            </div>\\n           </div>\\n           <div class=\"panel-pane pane-entity-field pane-node-field-event-date ceu-addtocal\">\\n            <div class=\"pane-content\">\\n             <div class=\"field field-name-field-event-date field-type-datetime field-label-hidden\">\\n              <div class=\"field-items\">\\n               <div class=\"field-item even\">\\n                <span class=\"date-display-single\">\\n                 Thursday, September 21, 2017 - 1:30pm\\n                </span>\\n                <div class=\"addtocal\" id=\"addtocal_node_2146\">\\n                 Add to Calendar\\n                </div>\\n                <div class=\"item-list\">\\n                 <ul class=\"addtocal_menu\" id=\"addtocal_node_2146_menu\">\\n                  <li class=\"first\">\\n                   <a href=\"/node/2146/field_event_date/addtocal.ics\">\\n                    iCalendar\\n                   </a>\\n                  </li>\\n                  <li>\\n                   <a href=\"/node/2146/field_event_date/addtocal.ics\">\\n                    Outlook\\n                   </a>\\n                  </li>\\n                  <li>\\n                   <a href=\"http://www.google.com/calendar/event?action=TEMPLATE&amp;text=Revolutionary%20Roads.%20Diffusion%20of%20Neoliberal%20Tax%20Policies%20in%20the%2010%20Post-communist%20New%20EU%20Member%20States&amp;dates=20170921T113000Z/20170921T131000Z&amp;sprop=website%3Apoliticalscience.ceu.edu&amp;location=106&amp;details=This%20is%20an%20explorative%20study%20on%20the%20underlying%20causes%20and%20mechanisms%20of%20the%20diffusion%20of%20neoliberal%20tax%20policies%20in%20the%2010%20post-communist%20EU%20NMS%20%28New%20Member%20States%29%20during%20the%20period%20from%201992%20to%202012%2C%20a%20process%20partially%20coined%20as%20The%20Flat%20Tax%20Revolution.%20In%201993%2C%20Estonia%20became%20the%20first%20post-communist%20country%20to%20introduce%20a%20Flat%20Tax%20regime%2C%20and%20its%20neighbors%2C%20Lithuania%20%281994%29%20and%20Latvia%20%281996%29%2C%20soon%20followed%20suit%20while%20in%201995%20Hungary%20reduced%20its%20CIT%20%28Corporate%20Income%20Tax%29%20rate%20to%2020%25%2C%20the%20most%20competitive%20rate%20in%20the%20region.%20Between%201999%20and%202003%2C%20most%20of%20the%2010%20NMS%20countries%20enacted%20significant%20CIT%20cuts%20and%20by%202010%2C%209%20out%20of%20the%2010%20NMS%20introduced%20some%20form%20of%20Flat%20Tax%20regime%2C%20and%20CIT%20rates%20were%20significantly%20cut%2C%20making%20the%20region%20one%20of%20the%20most%20tax-competitive%20in%20the%20world.I%20aim%20to%20explain%20variation%20within%20two%20different%20dependent%20variables%2C%20the%20most%20important%20direct%20taxes%20in%20almost%20any%20tax%20system%20in%20the%20world%3A%20CIT%20and%20PIT.%20The%20explanatory%20power%20of%20seven%20theretical%20approaches%20is%20tested%3A%20the%20%281%29...&amp;website=https%3A//politicalscience.ceu.edu/events/2017-09-21/revolutionary-roads-diffusion-neoliberal-tax-policies-10-post-communist-new-eu\" target=\"_blank\">\\n                    Google\\n                   </a>\\n                  </li>\\n                  <li class=\"last\">\\n                   <a href=\"http://calendar.yahoo.com/?v=60&amp;TITLE=Revolutionary%20Roads.%20Diffusion%20of%20Neoliberal%20Tax%20Policies%20in%20the%2010%20Post-communist%20New%20EU%20Member%20States&amp;ST=20170921T133000&amp;DUR=0220&amp;URL=politicalscience.ceu.edu&amp;in_loc=106\" target=\"_blank\">\\n                    Yahoo\\n                   </a>\\n                  </li>\\n                 </ul>\\n                </div>\\n               </div>\\n              </div>\\n             </div>\\n            </div>\\n           </div>\\n          </div>\\n         </div>\\n         <div class=\"col-md-8 radix-layouts-content panel-panel\">\\n          <div class=\"panel-panel-inner\">\\n           <div class=\"panel-pane pane-entity-field pane-node-field-event-date\">\\n            <div class=\"pane-content\">\\n             <div class=\"field field-name-field-event-date field-type-datetime field-label-inline clearfix\">\\n              <div class=\"field-label\">\\n               Date:\\n              </div>\\n              <div class=\"field-items\">\\n               <div class=\"field-item even\">\\n                <span class=\"date-display-single\">\\n                 Thursday, September 21, 2017 -\\n                 <span class=\"date-display-start\">\\n                  1:30pm\\n                 </span>\\n                 to\\n                 <span class=\"date-display-end\">\\n                  3:10pm\\n                 </span>\\n                </span>\\n               </div>\\n              </div>\\n             </div>\\n            </div>\\n           </div>\\n           <div class=\"panel-pane pane-entity-field pane-node-body\">\\n            <div class=\"pane-content\">\\n             <div class=\"field field-name-body field-type-text-with-summary field-label-hidden\">\\n              <div class=\"field-items\">\\n               <div class=\"field-item even\">\\n                <p style=\"text-align:justify\">\\n                 This is an explorative study on the underlying causes and mechanisms of the diffusion of neoliberal tax policies in the 10 post-communist EU NMS (New Member States) during the period from 1992 to 2012, a process partially coined as\\n                 <i>\\n                  The Flat Tax Revolution.\\n                 </i>\\n                </p>\\n                <p style=\"text-align:justify\">\\n                 In 1993, Estonia became the first post-communist country to introduce a\\n                 <i>\\n                  Flat Tax\\n                 </i>\\n                 regime, and its neighbors, Lithuania (1994) and Latvia (1996), soon followed suit while in 1995 Hungary reduced its CIT (Corporate Income Tax) rate to 20%, the most competitive rate in the region. Between 1999 and 2003, most of the 10 NMS countries enacted significant CIT cuts and by 2010, 9 out of the 10 NMS introduced some form of Flat Tax regime, and CIT rates were significantly cut, making the region one of the most tax-competitive in the world.\\n                </p>\\n                <p style=\"text-align:justify\">\\n                 I aim to explain variation within two different dependent variables, the most important direct taxes in almost any tax system in the world: CIT and PIT. The explanatory power of seven theretical approaches is tested: the (1) external pressure, (2) competitive, (3) institutionalist competitive, (4) rational learning, (5) cognitive heuristics, and (6) emulation approaches to the process of policy diffusion, as well as Kingdon’s (1984) (7) Multiple Streams Model.I argue that Kingdon’s MSM represents an adequate model to analyze policy change as a diffusion phenomenon and allows me to offer a more complex, less parsimonious but more realistic account of the causal factors that account for the observed changes. This interpretation within the MSM stresses the relevance of different configurations of causal elements determining change in each of 10 NMS.\\n                </p>\\n                <p style=\"text-align:justify\">\\n                 <strong>\\n                  Bio\\n                  <br/>\\n                 </strong>\\n                 Arpad Todor\\xa0holds a PhD from the European University Institute, a MA from Central European University and is lecturer at the\\n                 <em>\\n                  National\\n                 </em>\\n                 University of\\n                 <em>\\n                  Political\\n                 </em>\\n                 Studies and\\n                 <em>\\n                  Public Administration\\n                 </em>\\n                 (NUPSPA), Bucharest, Romania. Since 2006 Todor Arpad works at Asociatia Pro Democratia on projects like APD’s Electoral Code, the introduction of the Score Card system for evaluating MPs activity, and Participatory Budgeting. Between 2013 and 2015 he was Executive Coordinator of the Constitutional Forum. Todor Arpad is editor of the\\n                 <i>\\n                  CEU Political Science Journal\\n                 </i>\\n                 and is currently finalizing a book manuscript with Prof Philippe C. Schmitter titled\\n                 <i>\\n                  Varieties of Capitalism and Types of Democracy\\n                 </i>\\n                 .\\n                </p>\\n               </div>\\n              </div>\\n             </div>\\n            </div>\\n           </div>\\n           <div class=\"panel-pane pane-node-links link-wrapper\">\\n            <div class=\"pane-content\">\\n            </div>\\n           </div>\\n           <div class=\"panel-pane pane-block pane-sharethis-sharethis-block\">\\n            <div class=\"pane-content\">\\n             <div class=\"sharethis-wrapper\">\\n              <span class=\"st_twitter_button\" displaytext=\"twitter\" st_title=\"Revolutionary Roads. Diffusion of Neoliberal Tax Policies in the 10 Post-communist New EU Member States\" st_url=\"https://politicalscience.ceu.edu/events/2017-09-21/revolutionary-roads-diffusion-neoliberal-tax-policies-10-post-communist-new-eu\">\\n              </span>\\n              <span class=\"st_facebook_button\" displaytext=\"facebook\" st_title=\"Revolutionary Roads. Diffusion of Neoliberal Tax Policies in the 10 Post-communist New EU Member States\" st_url=\"https://politicalscience.ceu.edu/events/2017-09-21/revolutionary-roads-diffusion-neoliberal-tax-policies-10-post-communist-new-eu\">\\n              </span>\\n              <span class=\"st_sharethis_button\" displaytext=\"sharethis\" st_title=\"Revolutionary Roads. Diffusion of Neoliberal Tax Policies in the 10 Post-communist New EU Member States\" st_url=\"https://politicalscience.ceu.edu/events/2017-09-21/revolutionary-roads-diffusion-neoliberal-tax-policies-10-post-communist-new-eu\">\\n              </span>\\n              <span class=\"st_plusone_button\" displaytext=\"plusone\" st_title=\"Revolutionary Roads. Diffusion of Neoliberal Tax Policies in the 10 Post-communist New EU Member States\" st_url=\"https://politicalscience.ceu.edu/events/2017-09-21/revolutionary-roads-diffusion-neoliberal-tax-policies-10-post-communist-new-eu\">\\n              </span>\\n              <span class=\"st_fblike_button\" displaytext=\"fblike\" st_title=\"Revolutionary Roads. Diffusion of Neoliberal Tax Policies in the 10 Post-communist New EU Member States\" st_url=\"https://politicalscience.ceu.edu/events/2017-09-21/revolutionary-roads-diffusion-neoliberal-tax-policies-10-post-communist-new-eu\">\\n              </span>\\n              <script type=\"text/javascript\">\\n               var switchTo5x = true;\\n              </script>\\n              <script src=\"https://ws.sharethis.com/button/buttons.js\" type=\"text/javascript\">\\n              </script>\\n              <script type=\"text/javascript\">\\n               stLight.options({\"publisher\":\"dr-4d27f1-fe4e-8b86-3c5d-4542a2eb54e3\"});\\n              </script>\\n             </div>\\n            </div>\\n           </div>\\n          </div>\\n         </div>\\n        </div>\\n       </div>\\n      </div>\\n      <!-- /.burr -->\\n     </div>\\n     <!-- /#content -->\\n     <div id=\"navigation\">\\n      <div class=\"region region-navigation\">\\n       <div class=\"block block-superfish first last odd\" id=\"block-superfish-1\">\\n        <ul class=\"menu sf-menu sf-main-menu sf-horizontal sf-style-none sf-total-items-10 sf-parent-items-7 sf-single-items-3\" id=\"superfish-1\">\\n         <li class=\"first odd sf-item-1 sf-depth-1 sf-total-children-9 sf-parent-children-2 sf-single-children-7 menuparent\" id=\"menu-1281-1\">\\n          <a class=\"sf-depth-1 menuparent\" href=\"/admissions\">\\n           Admissions\\n          </a>\\n          <ul>\\n           <li class=\"first odd sf-item-1 sf-depth-2\" id=\"menu-1282-1\">\\n            <a class=\"sf-depth-2\" href=\"/why-apply\">\\n             Why Apply?\\n            </a>\\n           </li>\\n           <li class=\"middle even sf-item-2 sf-depth-2\" id=\"menu-1283-1\">\\n            <a class=\"sf-depth-2\" href=\"/degrees-offered\">\\n             Degrees Offered\\n            </a>\\n           </li>\\n           <li class=\"middle odd sf-item-3 sf-depth-2 sf-no-children\" id=\"menu-1286-1\">\\n            <a class=\"sf-depth-2\" href=\"/how-apply-ma\">\\n             How to Apply for MA?\\n            </a>\\n           </li>\\n           <li class=\"middle even sf-item-4 sf-depth-2 sf-no-children\" id=\"menu-1287-1\">\\n            <a class=\"sf-depth-2\" href=\"/how-apply-phd\">\\n             How to Apply for PhD?\\n            </a>\\n           </li>\\n           <li class=\"middle odd sf-item-5 sf-depth-2 sf-no-children\" id=\"menu-1288-1\">\\n            <a class=\"sf-depth-2\" href=\"/financial-aid\">\\n             Financial Aid\\n            </a>\\n           </li>\\n           <li class=\"middle even sf-item-6 sf-depth-2 sf-no-children\" id=\"menu-1289-1\">\\n            <a class=\"sf-depth-2\" href=\"/living-budapest\">\\n             Living in Budapest\\n            </a>\\n           </li>\\n           <li class=\"middle odd sf-item-7 sf-depth-2 sf-no-children\" id=\"menu-1290-1\">\\n            <a class=\"sf-depth-2\" href=\"/life-department\">\\n             Fun at the Department\\n            </a>\\n           </li>\\n           <li class=\"middle even sf-item-8 sf-depth-2 sf-no-children\" id=\"menu-1292-1\">\\n            <a class=\"sf-depth-2\" href=\"/faq\">\\n             FAQ\\n            </a>\\n           </li>\\n           <li class=\"last odd sf-item-9 sf-depth-2 sf-no-children\" id=\"menu-1536-1\">\\n            <a class=\"sf-depth-2\" href=\"/admission-deadlines\">\\n             Application Deadlines\\n            </a>\\n           </li>\\n          </ul>\\n         </li>\\n         <li class=\"middle even sf-item-2 sf-depth-1 sf-total-children-4 sf-parent-children-2 sf-single-children-2 menuparent\" id=\"menu-1295-1\">\\n          <a class=\"sf-depth-1 menuparent\" href=\"/faculty\">\\n           People\\n          </a>\\n          <ul>\\n           <li class=\"first odd sf-item-1 sf-depth-2\" id=\"menu-13588-1\">\\n            <a class=\"sf-depth-2\" href=\"/faculty\">\\n             About Us\\n            </a>\\n           </li>\\n           <li class=\"middle even sf-item-2 sf-depth-2\" id=\"menu-1296-1\">\\n            <a class=\"sf-depth-2\" href=\"/current-students-ma-programs\">\\n             Students\\n            </a>\\n           </li>\\n           <li class=\"middle odd sf-item-3 sf-depth-2 sf-no-children\" id=\"menu-13578-1\">\\n            <a class=\"sf-depth-2\" href=\"https://politicalscience.ceu.edu/node/1519\">\\n             Departmental guests\\n            </a>\\n           </li>\\n           <li class=\"last even sf-item-4 sf-depth-2 sf-no-children\" id=\"menu-1348-1\">\\n            <a class=\"sf-depth-2\" href=\"/apply-be-visiting-scholars-department-political-science-ceu\">\\n             For Visiting Scholars\\n            </a>\\n           </li>\\n          </ul>\\n         </li>\\n         <li class=\"middle odd sf-item-3 sf-depth-1 sf-total-children-7 sf-parent-children-4 sf-single-children-3 menuparent\" id=\"menu-1307-1\">\\n          <a class=\"sf-depth-1 menuparent\" href=\"/programs\">\\n           Programs\\n          </a>\\n          <ul>\\n           <li class=\"first odd sf-item-1 sf-depth-2\" id=\"menu-1308-1\">\\n            <a class=\"sf-depth-2\" href=\"/ma-programs\">\\n             MA Programs\\n            </a>\\n           </li>\\n           <li class=\"middle even sf-item-2 sf-depth-2 sf-no-children\" id=\"menu-1312-1\">\\n            <a class=\"sf-depth-2\" href=\"/phd-program\">\\n             PhD Program\\n            </a>\\n           </li>\\n           <li class=\"middle odd sf-item-3 sf-depth-2\" id=\"menu-1390-1\">\\n            <a class=\"sf-depth-2\" href=\"/ma-and-phd-courses\">\\n             Courses\\n            </a>\\n           </li>\\n           <li class=\"middle even sf-item-4 sf-depth-2 sf-no-children\" id=\"menu-1313-1\">\\n            <a class=\"sf-depth-2\" href=\"/course-schedules\">\\n             Course Schedules\\n            </a>\\n           </li>\\n           <li class=\"middle odd sf-item-5 sf-depth-2\" id=\"menu-1496-1\">\\n            <a class=\"sf-depth-2\" href=\"/specializations\">\\n             Specializations\\n            </a>\\n           </li>\\n           <li class=\"middle even sf-item-6 sf-depth-2\" id=\"menu-1314-1\">\\n            <a class=\"sf-depth-2\" href=\"/exchange-opportunities\">\\n             Exchange Opportunities\\n            </a>\\n           </li>\\n           <li class=\"last odd sf-item-7 sf-depth-2 sf-no-children\" id=\"menu-1320-1\">\\n            <a class=\"sf-depth-2\" href=\"/departmental-policies-0\">\\n             Departmental Policies\\n            </a>\\n           </li>\\n          </ul>\\n         </li>\\n         <li class=\"middle even sf-item-4 sf-depth-1 sf-total-children-8 sf-parent-children-0 sf-single-children-8 menuparent\" id=\"menu-1349-1\">\\n          <a class=\"sf-depth-1 menuparent\" href=\"/alumni\">\\n           Alumni\\n          </a>\\n          <ul>\\n           <li class=\"first odd sf-item-1 sf-depth-2 sf-no-children\" id=\"menu-1352-1\">\\n            <a class=\"sf-depth-2\" href=\"/alumni-association\">\\n             Alumni Relations &amp; Career Services\\n            </a>\\n           </li>\\n           <li class=\"middle even sf-item-2 sf-depth-2 sf-no-children\" id=\"menu-13519-1\">\\n            <a class=\"sf-depth-2\" href=\"/alumni-ambassadors-0\">\\n             PolSci Alumni Ambassadors\\n            </a>\\n           </li>\\n           <li class=\"middle odd sf-item-3 sf-depth-2 sf-no-children\" id=\"menu-13587-1\">\\n            <a class=\"sf-depth-2\" href=\"/polsci-alumni-scholarship-award\">\\n             PolSci Alumni Scholarship\\n            </a>\\n           </li>\\n           <li class=\"middle even sf-item-4 sf-depth-2 sf-no-children\" id=\"menu-1350-1\">\\n            <a class=\"sf-depth-2\" href=\"/alumni-careers\">\\n             PolSci Alumni Careers\\n            </a>\\n           </li>\\n           <li class=\"middle odd sf-item-5 sf-depth-2 sf-no-children\" id=\"menu-1353-1\">\\n            <a class=\"sf-depth-2\" href=\"/what-our-alumni-say\">\\n             What Our Alumni Say\\n            </a>\\n           </li>\\n           <li class=\"middle even sf-item-6 sf-depth-2 sf-no-children\" id=\"menu-1351-1\">\\n            <a class=\"sf-depth-2\" href=\"/links-alumni\">\\n             Links for Alumni\\n            </a>\\n           </li>\\n           <li class=\"middle odd sf-item-7 sf-depth-2 sf-no-children\" id=\"menu-1569-1\">\\n            <a class=\"sf-depth-2\" href=\"/alumni-access-library\">\\n             Alumni Access to Library\\n            </a>\\n           </li>\\n           <li class=\"last even sf-item-8 sf-depth-2 sf-no-children\" id=\"menu-13609-1\">\\n            <a class=\"sf-depth-2\" href=\"/alumni-profiles\">\\n             PolSci Alumni Profiles\\n            </a>\\n           </li>\\n          </ul>\\n         </li>\\n         <li class=\"middle odd sf-item-5 sf-depth-1 sf-total-children-5 sf-parent-children-2 sf-single-children-3 menuparent\" id=\"menu-1321-1\">\\n          <a class=\"sf-depth-1 menuparent\" href=\"/research\">\\n           Research\\n          </a>\\n          <ul>\\n           <li class=\"first odd sf-item-1 sf-depth-2 sf-no-children\" id=\"menu-1323-1\">\\n            <a class=\"sf-depth-2\" href=\"/projects\" target=\"_self\">\\n             Research Projects\\n            </a>\\n           </li>\\n           <li class=\"middle even sf-item-2 sf-depth-2\" id=\"menu-1346-1\">\\n            <a class=\"sf-depth-2\" href=\"/research-centers-and-research-groups\">\\n             Research Centers and Research Groups\\n            </a>\\n           </li>\\n           <li class=\"middle odd sf-item-3 sf-depth-2\" id=\"menu-1344-1\">\\n            <a class=\"sf-depth-2\" href=\"/political-science-departmental-doctoral-seminars\">\\n             Departmental Seminar\\n            </a>\\n           </li>\\n           <li class=\"middle even sf-item-4 sf-depth-2 sf-no-children\" id=\"menu-1345-1\">\\n            <a class=\"sf-depth-2\" href=\"/annual-doctoral-conferences\">\\n             Annual Doctoral Conference\\n            </a>\\n           </li>\\n           <li class=\"last odd sf-item-5 sf-depth-2 sf-no-children\" id=\"menu-13594-1\">\\n            <a class=\"sf-depth-2\" href=\"/hungarian-partnerships\">\\n             Hungarian Partnerships\\n            </a>\\n           </li>\\n          </ul>\\n         </li>\\n         <li class=\"middle even sf-item-6 sf-depth-1 sf-total-children-3 sf-parent-children-1 sf-single-children-2 menuparent\" id=\"menu-1395-1\">\\n          <a class=\"sf-depth-1 menuparent\" href=\"https://politicalscience.ceu.edu/publications-1\">\\n           Publications\\n          </a>\\n          <ul>\\n           <li class=\"first odd sf-item-1 sf-depth-2\" id=\"menu-1386-1\">\\n            <a class=\"sf-depth-2\" href=\"/theses-and-dissertations\">\\n             Theses and Dissertations\\n            </a>\\n           </li>\\n           <li class=\"middle even sf-item-2 sf-depth-2 sf-no-children\" id=\"menu-1326-1\">\\n            <a class=\"sf-depth-2\" href=\"/political-science-journal\">\\n             Political Science Journal\\n            </a>\\n           </li>\\n           <li class=\"last odd sf-item-3 sf-depth-2 sf-no-children\" id=\"menu-1558-1\">\\n            <a class=\"sf-depth-2\" href=\"/east-european-quarterly\">\\n             East European Quarterly\\n            </a>\\n           </li>\\n          </ul>\\n         </li>\\n         <li class=\"middle odd sf-item-7 sf-depth-1 sf-total-children-1 sf-parent-children-1 sf-single-children-0 menuparent\" id=\"menu-1368-1\">\\n          <a class=\"sf-depth-1 menuparent\" href=\"/events\">\\n           Events\\n          </a>\\n          <ul>\\n           <li class=\"firstandlast odd sf-item-1 sf-depth-2\" id=\"menu-13604-1\">\\n            <a class=\"sf-depth-2\" href=\"/conferences-workshops\">\\n             Conferences, workshops\\n            </a>\\n           </li>\\n          </ul>\\n         </li>\\n         <li class=\"middle even sf-item-8 sf-depth-1 sf-no-children\" id=\"menu-9922-1\">\\n          <a class=\"sf-depth-1\" href=\"/news\">\\n           News\\n          </a>\\n         </li>\\n         <li class=\"middle odd sf-item-9 sf-depth-1 sf-no-children\" id=\"menu-1357-1\">\\n          <a class=\"sf-depth-1\" href=\"/videos\">\\n           Video\\n          </a>\\n         </li>\\n         <li class=\"last even sf-item-10 sf-depth-1 sf-no-children\" id=\"menu-1534-1\">\\n          <a class=\"sf-depth-1\" href=\"/meet-us\">\\n           Meet Us\\n          </a>\\n         </li>\\n        </ul>\\n       </div>\\n      </div>\\n     </div>\\n     <!-- /#navigation -->\\n    </div>\\n    <!-- /#main -->\\n    <footer class=\"region region-footer\" id=\"footer\">\\n     <div class=\"block block-block first odd\" id=\"block-block-1\">\\n      <p>\\n       Copyright ©\\n       <a href=\"http://www.ceu.edu/\">\\n        Central European University\\n       </a>\\n       //\\xa0Postal Address:\\xa0Nador u. 9, Budapest, 1051, Hungary //\\n       <a href=\"http://www.ceu.edu/privacy\">\\n        CEU Data Privacy Notice\\n       </a>\\n      </p>\\n     </div>\\n     <div class=\"block block-menu last even\" id=\"block-menu-menu-flags\" role=\"navigation\">\\n      <ul class=\"menu\">\\n       <li class=\"menu__item is-leaf first leaf menu__link\">\\n        <a class=\"menu__link\" href=\"/ein-lehrstuhl-der-spitzenklasse\">\\n         DEU\\n        </a>\\n       </li>\\n       <li class=\"menu__item is-leaf leaf menu__link\">\\n        <a class=\"menu__link\" href=\"/departamento-de-ciencias-pol%C3%ADticas\">\\n         ESP\\n        </a>\\n       </li>\\n       <li class=\"menu__item is-leaf leaf menu__link\">\\n        <a class=\"menu__link\" href=\"/presti%C5%BCowy-wydzia%C5%82\">\\n         POL\\n        </a>\\n       </li>\\n       <li class=\"menu__item is-leaf leaf menu__link\">\\n        <a class=\"menu__link\" href=\"/%D0%B5%D0%B4%D0%B8%D0%BD-%D0%BF%D1%80%D0%B5%D1%81%D1%82%D0%B8%D0%B6%D0%B5%D0%BD-%D0%B4%D0%B5%D0%BF%D0%B0%D1%80%D1%82%D0%B0%D0%BC%D0%B5%D0%BD%D1%82\">\\n         BGR\\n        </a>\\n       </li>\\n       <li class=\"menu__item is-leaf leaf menu__link\">\\n        <a class=\"menu__link\" href=\"/az-%C3%B6tcsillagos-tansz%C3%A9k\">\\n         HUN\\n        </a>\\n       </li>\\n       <li class=\"menu__item is-leaf leaf menu__link\">\\n        <a class=\"menu__link\" href=\"/five-star-department\">\\n         ENG\\n        </a>\\n       </li>\\n       <li class=\"menu__item is-leaf last leaf menu__link\">\\n        <a class=\"menu__link\" href=\"/turkish-students\">\\n         TUR\\n        </a>\\n       </li>\\n      </ul>\\n     </div>\\n    </footer>\\n   </div>\\n   <!-- /#page -->\\n  </div>\\n  <!-- /#page-outer -->\\n  <script src=\"https://politicalscience.ceu.edu/sites/politicalscience.ceu.hu/files/js/js_gh96DeH97lgs1Px7F6InpWyTPioytvRmQd_YRSDB-Q8.js\">\\n  </script>\\n </body>\\n</html>'"
      ]
     },
     "execution_count": 255,
     "metadata": {},
     "output_type": "execute_result"
    }
   ],
   "source": [
    "soup.prettify()"
   ]
  },
  {
   "cell_type": "code",
   "execution_count": 256,
   "metadata": {},
   "outputs": [],
   "source": [
    "title=soup.title.string"
   ]
  },
  {
   "cell_type": "code",
   "execution_count": 257,
   "metadata": {},
   "outputs": [
    {
     "name": "stdout",
     "output_type": "stream",
     "text": [
      "Revolutionary Roads. Diffusion of Neoliberal Tax Policies in the 10 Post-communist New EU Member States | Department of Political Science\n"
     ]
    }
   ],
   "source": [
    "print(title)"
   ]
  },
  {
   "cell_type": "code",
   "execution_count": 258,
   "metadata": {},
   "outputs": [
    {
     "name": "stdout",
     "output_type": "stream",
     "text": [
      "Thursday, September 21, 2017 - 1:30pm to 3:10pm\n"
     ]
    }
   ],
   "source": [
    "date=soup.findAll(\"div\", {\"class\": \"field-name-field-event-date\"})[-1].text.split(\":\\xa0\")[1]\n",
    "print(date)"
   ]
  },
  {
   "cell_type": "code",
   "execution_count": 259,
   "metadata": {},
   "outputs": [
    {
     "name": "stdout",
     "output_type": "stream",
     "text": [
      "Departmental Seminar\n"
     ]
    }
   ],
   "source": [
    "event_type=soup.findAll(\"div\", {\"class\": \"field-name-field-term-event-type\"})[-1].text.split(\":\\xa0\")[1]\n",
    "print(event_type)"
   ]
  },
  {
   "cell_type": "code",
   "execution_count": 260,
   "metadata": {},
   "outputs": [
    {
     "name": "stdout",
     "output_type": "stream",
     "text": [
      "Open to the Public\n"
     ]
    }
   ],
   "source": [
    "audiance=soup.findAll(\"div\", {\"class\": \"field-name-field-term-event-audience\"})[-1].text.split(\":\\xa0\")[1]\n",
    "print(audiance)"
   ]
  },
  {
   "cell_type": "code",
   "execution_count": 261,
   "metadata": {},
   "outputs": [
    {
     "name": "stdout",
     "output_type": "stream",
     "text": [
      "Arpad Todor\n"
     ]
    }
   ],
   "source": [
    "speaker=soup.findAll(\"div\", {\"class\": \"field-name-field-event-speaker\"})[-1].text.split(\":\\xa0\")[1]\n",
    "print(speaker)"
   ]
  },
  {
   "cell_type": "code",
   "execution_count": 262,
   "metadata": {},
   "outputs": [
    {
     "name": "stdout",
     "output_type": "stream",
     "text": [
      "This is an explorative study on the underlying causes and mechanisms of the diffusion of neoliberal tax policies in the 10 post-communist EU NMS (New Member States) during the period from 1992 to 2012, a process partially coined as The Flat Tax Revolution. \n",
      "In 1993, Estonia became the first post-communist country to introduce a Flat Tax regime, and its neighbors, Lithuania (1994) and Latvia (1996), soon followed suit while in 1995 Hungary reduced its CIT (Corporate Income Tax) rate to 20%, the most competitive rate in the region. Between 1999 and 2003, most of the 10 NMS countries enacted significant CIT cuts and by 2010, 9 out of the 10 NMS introduced some form of Flat Tax regime, and CIT rates were significantly cut, making the region one of the most tax-competitive in the world.\n",
      "I aim to explain variation within two different dependent variables, the most important direct taxes in almost any tax system in the world: CIT and PIT. The explanatory power of seven theretical approaches is tested: the (1) external pressure, (2) competitive, (3) institutionalist competitive, (4) rational learning, (5) cognitive heuristics, and (6) emulation approaches to the process of policy diffusion, as well as Kingdon’s (1984) (7) Multiple Streams Model.I argue that Kingdon’s MSM represents an adequate model to analyze policy change as a diffusion phenomenon and allows me to offer a more complex, less parsimonious but more realistic account of the causal factors that account for the observed changes. This interpretation within the MSM stresses the relevance of different configurations of causal elements determining change in each of 10 NMS.\n",
      "BioArpad Todor holds a PhD from the European University Institute, a MA from Central European University and is lecturer at the National University of Political Studies and Public Administration (NUPSPA), Bucharest, Romania. Since 2006 Todor Arpad works at Asociatia Pro Democratia on projects like APD’s Electoral Code, the introduction of the Score Card system for evaluating MPs activity, and Participatory Budgeting. Between 2013 and 2015 he was Executive Coordinator of the Constitutional Forum. Todor Arpad is editor of the CEU Political Science Journal and is currently finalizing a book manuscript with Prof Philippe C. Schmitter titled Varieties of Capitalism and Types of Democracy.\n",
      "\n"
     ]
    }
   ],
   "source": [
    "main_text=soup.findAll(\"div\", {\"class\": \"field-name-body\"})[-1].text\n",
    "print(main_text)"
   ]
  },
  {
   "cell_type": "code",
   "execution_count": 316,
   "metadata": {
    "collapsed": true
   },
   "outputs": [],
   "source": [
    "def parse_page(r):\n",
    "    soup = BeautifulSoup(r.text, \"html5lib\")\n",
    "    title=soup.title.string.encode('utf-8')\n",
    "    try:\n",
    "        date=soup.findAll(\"div\", {\"class\": \"field-name-field-event-date\"})[-1].text\n",
    "        if \":\\xa0\" in date:\n",
    "            date=date.split(\":\\xa0\")[1]\n",
    "    except:\n",
    "        date='NAN'\n",
    "    try:    \n",
    "        event_type=soup.findAll(\"div\", {\"class\": \"field-name-field-term-event-type\"})[-1].text\n",
    "        if \":\\xa0\" in event_type:\n",
    "             event_type=event_type.split(\":\\xa0\")[1]\n",
    "    except:\n",
    "        date='NAN'\n",
    "    try:\n",
    "        audiance=soup.findAll(\"div\", {\"class\": \"field-name-field-term-event-audience\"})[-1].text\n",
    "        if \":\\xa0\"in audiance:\n",
    "            audiance=audiance.split(\":\\xa0\")[1]\n",
    "    except:\n",
    "        audiance='NAN'\n",
    "    try:\n",
    "        speaker=soup.findAll(\"div\", {\"class\": \"field-name-field-event-speaker\"})[-1].text\n",
    "        if \":\\xa0\"in speaker:\n",
    "            speaker=speaker.split(\":\\xa0\")[1]    \n",
    "    except:\n",
    "        speaker=\"NAN\"\n",
    "    try:\n",
    "        main_text=soup.findAll(\"div\", {\"class\": \"field-name-body\"})[-1].text.replace(u'\\xa0', u' ').strip()\n",
    "    except:\n",
    "        main_text='NAN'\n",
    "    return (title, date, event_type, audiance, speaker, main_text)\n",
    "    "
   ]
  },
  {
   "cell_type": "code",
   "execution_count": 317,
   "metadata": {},
   "outputs": [
    {
     "data": {
      "text/plain": [
       "(b'How Competitive Are Hungarian Parliamentary Elections? Constructing an Answer with Observational Data | Department of Political Science',\n",
       " 'Thursday, October 18, 2018 - 1:30pm to 3:10pm',\n",
       " 'Departmental Seminar',\n",
       " 'Open to the Public',\n",
       " 'Gabor Toka',\n",
       " 'NAN')"
      ]
     },
     "execution_count": 317,
     "metadata": {},
     "output_type": "execute_result"
    }
   ],
   "source": [
    "parse_page(r)"
   ]
  },
  {
   "cell_type": "code",
   "execution_count": 265,
   "metadata": {},
   "outputs": [
    {
     "name": "stdout",
     "output_type": "stream",
     "text": [
      "36196\n",
      "37074\n"
     ]
    },
    {
     "ename": "IndexError",
     "evalue": "list index out of range",
     "output_type": "error",
     "traceback": [
      "\u001b[0;31m---------------------------------------------------------------------------\u001b[0m",
      "\u001b[0;31mIndexError\u001b[0m                                Traceback (most recent call last)",
      "\u001b[0;32m<ipython-input-265-c9d6510832ed>\u001b[0m in \u001b[0;36m<module>\u001b[0;34m()\u001b[0m\n\u001b[1;32m     10\u001b[0m     \u001b[0mr\u001b[0m \u001b[0;34m=\u001b[0m \u001b[0mrequests\u001b[0m\u001b[0;34m.\u001b[0m\u001b[0mget\u001b[0m\u001b[0;34m(\u001b[0m\u001b[0murl\u001b[0m\u001b[0;34m)\u001b[0m\u001b[0;34m\u001b[0m\u001b[0m\n\u001b[1;32m     11\u001b[0m     \u001b[0mprint\u001b[0m\u001b[0;34m(\u001b[0m\u001b[0mlen\u001b[0m\u001b[0;34m(\u001b[0m\u001b[0mr\u001b[0m\u001b[0;34m.\u001b[0m\u001b[0mtext\u001b[0m\u001b[0;34m)\u001b[0m\u001b[0;34m)\u001b[0m\u001b[0;34m\u001b[0m\u001b[0m\n\u001b[0;32m---> 12\u001b[0;31m     \u001b[0mtitle\u001b[0m\u001b[0;34m,\u001b[0m \u001b[0mdate\u001b[0m\u001b[0;34m,\u001b[0m \u001b[0mevent_type\u001b[0m\u001b[0;34m,\u001b[0m \u001b[0maudiance\u001b[0m\u001b[0;34m,\u001b[0m \u001b[0mspeaker\u001b[0m\u001b[0;34m,\u001b[0m \u001b[0mmain_tex\u001b[0m\u001b[0;34m=\u001b[0m\u001b[0mparse_page\u001b[0m\u001b[0;34m(\u001b[0m\u001b[0mr\u001b[0m\u001b[0;34m)\u001b[0m\u001b[0;34m\u001b[0m\u001b[0m\n\u001b[0m\u001b[1;32m     13\u001b[0m     df = pd.DataFrame.from_records([\n\u001b[1;32m     14\u001b[0m         {'node':node,\n",
      "\u001b[0;32m<ipython-input-263-7587b84c1dbd>\u001b[0m in \u001b[0;36mparse_page\u001b[0;34m(r)\u001b[0m\n\u001b[1;32m      2\u001b[0m     \u001b[0msoup\u001b[0m \u001b[0;34m=\u001b[0m \u001b[0mBeautifulSoup\u001b[0m\u001b[0;34m(\u001b[0m\u001b[0mr\u001b[0m\u001b[0;34m.\u001b[0m\u001b[0mtext\u001b[0m\u001b[0;34m,\u001b[0m \u001b[0;34m\"html5lib\"\u001b[0m\u001b[0;34m)\u001b[0m\u001b[0;34m\u001b[0m\u001b[0m\n\u001b[1;32m      3\u001b[0m     \u001b[0mtitle\u001b[0m\u001b[0;34m=\u001b[0m\u001b[0msoup\u001b[0m\u001b[0;34m.\u001b[0m\u001b[0mtitle\u001b[0m\u001b[0;34m.\u001b[0m\u001b[0mstring\u001b[0m\u001b[0;34m\u001b[0m\u001b[0m\n\u001b[0;32m----> 4\u001b[0;31m     \u001b[0mdate\u001b[0m\u001b[0;34m=\u001b[0m\u001b[0msoup\u001b[0m\u001b[0;34m.\u001b[0m\u001b[0mfindAll\u001b[0m\u001b[0;34m(\u001b[0m\u001b[0;34m\"div\"\u001b[0m\u001b[0;34m,\u001b[0m \u001b[0;34m{\u001b[0m\u001b[0;34m\"class\"\u001b[0m\u001b[0;34m:\u001b[0m \u001b[0;34m\"field-name-field-event-date\"\u001b[0m\u001b[0;34m}\u001b[0m\u001b[0;34m)\u001b[0m\u001b[0;34m[\u001b[0m\u001b[0;34m-\u001b[0m\u001b[0;36m1\u001b[0m\u001b[0;34m]\u001b[0m\u001b[0;34m.\u001b[0m\u001b[0mtext\u001b[0m\u001b[0;34m.\u001b[0m\u001b[0msplit\u001b[0m\u001b[0;34m(\u001b[0m\u001b[0;34m\":\\xa0\"\u001b[0m\u001b[0;34m)\u001b[0m\u001b[0;34m[\u001b[0m\u001b[0;36m1\u001b[0m\u001b[0;34m]\u001b[0m\u001b[0;34m\u001b[0m\u001b[0m\n\u001b[0m\u001b[1;32m      5\u001b[0m     \u001b[0mevent_type\u001b[0m\u001b[0;34m=\u001b[0m\u001b[0msoup\u001b[0m\u001b[0;34m.\u001b[0m\u001b[0mfindAll\u001b[0m\u001b[0;34m(\u001b[0m\u001b[0;34m\"div\"\u001b[0m\u001b[0;34m,\u001b[0m \u001b[0;34m{\u001b[0m\u001b[0;34m\"class\"\u001b[0m\u001b[0;34m:\u001b[0m \u001b[0;34m\"field-name-field-term-event-type\"\u001b[0m\u001b[0;34m}\u001b[0m\u001b[0;34m)\u001b[0m\u001b[0;34m[\u001b[0m\u001b[0;34m-\u001b[0m\u001b[0;36m1\u001b[0m\u001b[0;34m]\u001b[0m\u001b[0;34m.\u001b[0m\u001b[0mtext\u001b[0m\u001b[0;34m.\u001b[0m\u001b[0msplit\u001b[0m\u001b[0;34m(\u001b[0m\u001b[0;34m\":\\xa0\"\u001b[0m\u001b[0;34m)\u001b[0m\u001b[0;34m[\u001b[0m\u001b[0;36m1\u001b[0m\u001b[0;34m]\u001b[0m\u001b[0;34m\u001b[0m\u001b[0m\n\u001b[1;32m      6\u001b[0m     \u001b[0maudiance\u001b[0m\u001b[0;34m=\u001b[0m\u001b[0msoup\u001b[0m\u001b[0;34m.\u001b[0m\u001b[0mfindAll\u001b[0m\u001b[0;34m(\u001b[0m\u001b[0;34m\"div\"\u001b[0m\u001b[0;34m,\u001b[0m \u001b[0;34m{\u001b[0m\u001b[0;34m\"class\"\u001b[0m\u001b[0;34m:\u001b[0m \u001b[0;34m\"field-name-field-term-event-audience\"\u001b[0m\u001b[0;34m}\u001b[0m\u001b[0;34m)\u001b[0m\u001b[0;34m[\u001b[0m\u001b[0;34m-\u001b[0m\u001b[0;36m1\u001b[0m\u001b[0;34m]\u001b[0m\u001b[0;34m.\u001b[0m\u001b[0mtext\u001b[0m\u001b[0;34m.\u001b[0m\u001b[0msplit\u001b[0m\u001b[0;34m(\u001b[0m\u001b[0;34m\":\\xa0\"\u001b[0m\u001b[0;34m)\u001b[0m\u001b[0;34m[\u001b[0m\u001b[0;36m1\u001b[0m\u001b[0;34m]\u001b[0m\u001b[0;34m\u001b[0m\u001b[0m\n",
      "\u001b[0;31mIndexError\u001b[0m: list index out of range"
     ]
    }
   ],
   "source": [
    "# Let's put it together\n",
    "base_link=\"https://politicalscience.ceu.edu/node/\"\n",
    "start=2146\n",
    "end=2550\n",
    "\n",
    "res_df=pd.DataFrame()\n",
    "res_dict={}\n",
    "for node in range(start,end+1)[:5]:\n",
    "    url = base_link+str(node)\n",
    "    r = requests.get(url)\n",
    "    print(len(r.text))\n",
    "    title, date, event_type, audiance, speaker, main_tex=parse_page(r)\n",
    "    df = pd.DataFrame.from_records([\n",
    "        {'node':node,\n",
    "         'title':title,\n",
    "         'date':date,\n",
    "         'event_type': event_type,\n",
    "         'speaker': speaker,\n",
    "         'main_text': main_text}], \n",
    "          index='node')\n",
    "    res_df=res_df.append(df)"
   ]
  },
  {
   "cell_type": "code",
   "execution_count": 266,
   "metadata": {},
   "outputs": [
    {
     "data": {
      "text/plain": [
       "'https://politicalscience.ceu.edu/node/2147'"
      ]
     },
     "execution_count": 266,
     "metadata": {},
     "output_type": "execute_result"
    }
   ],
   "source": [
    "base_link+str(node)"
   ]
  },
  {
   "cell_type": "code",
   "execution_count": 246,
   "metadata": {},
   "outputs": [
    {
     "data": {
      "text/plain": [
       "2147"
      ]
     },
     "execution_count": 246,
     "metadata": {},
     "output_type": "execute_result"
    }
   ],
   "source": [
    "node"
   ]
  },
  {
   "cell_type": "markdown",
   "metadata": {},
   "source": [
    "# Get all the link which belong to political science events so we do not have to sue the nodes, which are not too reliable"
   ]
  },
  {
   "cell_type": "code",
   "execution_count": 267,
   "metadata": {
    "collapsed": true
   },
   "outputs": [],
   "source": [
    "url1='https://www.ceu.edu/events/unit/department-political-science-36?search_term=&type=All&audience=All&after%5Bdate%5D=09-01-2017&before%5Bdate%5D='"
   ]
  },
  {
   "cell_type": "code",
   "execution_count": 268,
   "metadata": {
    "collapsed": true
   },
   "outputs": [],
   "source": [
    "url2='https://www.ceu.edu/events/unit/department-political-science-36?search_term=&type=All&audience=All&after%5Bdate%5D=09-01-2017&before%5Bdate%5D=&page=1'"
   ]
  },
  {
   "cell_type": "code",
   "execution_count": 269,
   "metadata": {
    "collapsed": true
   },
   "outputs": [],
   "source": [
    "url3='https://www.ceu.edu/events/unit/department-political-science-36?search_term=&type=All&audience=All&after%5Bdate%5D=09-01-2017&before%5Bdate%5D=&page=2'"
   ]
  },
  {
   "cell_type": "code",
   "execution_count": 270,
   "metadata": {
    "collapsed": true
   },
   "outputs": [],
   "source": [
    "def get_links(r):\n",
    "    links=[]\n",
    "    soup = BeautifulSoup(r.text, \"html5lib\")\n",
    "    for i in soup.findAll(\"div\", {\"class\": \"event-info\"}):\n",
    "        links.append(i.findAll('a')[0].get('href'))\n",
    "    return links"
   ]
  },
  {
   "cell_type": "code",
   "execution_count": 271,
   "metadata": {},
   "outputs": [],
   "source": [
    "final_links=[]\n",
    "for url in [url1, url2, url3]:\n",
    "    r = requests.get(url)\n",
    "    new_links=get_links(r)\n",
    "    final_links.extend(new_links)"
   ]
  },
  {
   "cell_type": "code",
   "execution_count": 272,
   "metadata": {},
   "outputs": [
    {
     "data": {
      "text/plain": [
       "64"
      ]
     },
     "execution_count": 272,
     "metadata": {},
     "output_type": "execute_result"
    }
   ],
   "source": [
    "len(final_links)"
   ]
  },
  {
   "cell_type": "code",
   "execution_count": 220,
   "metadata": {},
   "outputs": [
    {
     "data": {
      "text/plain": [
       "'/event/2017-09-21/revolutionary-roads-diffusion-neoliberal-tax-policies-10-post-communist-new-eu'"
      ]
     },
     "execution_count": 220,
     "metadata": {},
     "output_type": "execute_result"
    }
   ],
   "source": [
    "final_links[0]"
   ]
  },
  {
   "cell_type": "markdown",
   "metadata": {},
   "source": [
    "## Then we go through these links"
   ]
  },
  {
   "cell_type": "code",
   "execution_count": 318,
   "metadata": {},
   "outputs": [],
   "source": [
    "base_link=\"https://ceu.edu/\"\n",
    "\n",
    "res_df=pd.DataFrame()\n",
    "res_dict={}\n",
    "i=0\n",
    "\n",
    "for link in final_links:\n",
    "    url = base_link+str(link)+\"/\"\n",
    "    r = requests.get(url)\n",
    "    title, date, event_type, audiance, speaker, main_tex=parse_page(r)\n",
    "    i+=1\n",
    "    df = pd.DataFrame.from_records([\n",
    "        {'id':i,\n",
    "         'title':title,\n",
    "         'date':date,\n",
    "         'event_type': event_type,\n",
    "         'speaker': speaker,\n",
    "         'main_text': main_text}], \n",
    "          index='id')\n",
    "    res_df=res_df.append(df)"
   ]
  },
  {
   "cell_type": "code",
   "execution_count": 319,
   "metadata": {},
   "outputs": [
    {
     "data": {
      "text/plain": [
       "64"
      ]
     },
     "execution_count": 319,
     "metadata": {},
     "output_type": "execute_result"
    }
   ],
   "source": [
    "len(res_df)"
   ]
  },
  {
   "cell_type": "code",
   "execution_count": 320,
   "metadata": {},
   "outputs": [],
   "source": [
    "res_df.to_excel('test_full.xlsx')"
   ]
  },
  {
   "cell_type": "code",
   "execution_count": 321,
   "metadata": {},
   "outputs": [
    {
     "name": "stdout",
     "output_type": "stream",
     "text": [
      "ceu_events.ipynb     test.csv             ~$scrpaing.pptx\r\n",
      "ceu_events_2146.html test.xlsx\r\n",
      "scrpaing.pptx        test_full.xlsx\r\n"
     ]
    }
   ],
   "source": [
    "# ls shows you what is in your current working directory wok\n",
    "! ls"
   ]
  },
  {
   "cell_type": "code",
   "execution_count": null,
   "metadata": {
    "collapsed": true
   },
   "outputs": [],
   "source": []
  }
 ],
 "metadata": {
  "kernelspec": {
   "display_name": "Python 3",
   "language": "python",
   "name": "python3"
  },
  "language_info": {
   "codemirror_mode": {
    "name": "ipython",
    "version": 3
   },
   "file_extension": ".py",
   "mimetype": "text/x-python",
   "name": "python",
   "nbconvert_exporter": "python",
   "pygments_lexer": "ipython3",
   "version": "3.6.3"
  }
 },
 "nbformat": 4,
 "nbformat_minor": 2
}
